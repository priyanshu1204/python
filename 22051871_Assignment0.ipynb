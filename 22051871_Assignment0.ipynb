{
  "cells": [
    {
      "cell_type": "markdown",
      "metadata": {
        "id": "view-in-github",
        "colab_type": "text"
      },
      "source": [
        "<a href=\"https://colab.research.google.com/github/priyanshu1204/python/blob/main/22051871_Assignment0.ipynb\" target=\"_parent\"><img src=\"https://colab.research.google.com/assets/colab-badge.svg\" alt=\"Open In Colab\"/></a>"
      ]
    },
    {
      "cell_type": "code",
      "execution_count": null,
      "metadata": {
        "colab": {
          "base_uri": "https://localhost:8080/"
        },
        "id": "4XCImRF_p8_U",
        "outputId": "4785c0fc-ed3f-4107-afee-2cb1a7904940"
      },
      "outputs": [
        {
          "name": "stdout",
          "output_type": "stream",
          "text": [
            "Hello World\n"
          ]
        }
      ],
      "source": [
        "print('Hello World')"
      ]
    },
    {
      "cell_type": "code",
      "execution_count": null,
      "metadata": {
        "colab": {
          "base_uri": "https://localhost:8080/"
        },
        "id": "Gv5sJ_UHqVGS",
        "outputId": "2f6db2e8-2fd8-4c0b-b710-b89554517ec2"
      },
      "outputs": [
        {
          "name": "stdout",
          "output_type": "stream",
          "text": [
            "11\n"
          ]
        }
      ],
      "source": [
        "a =5\n",
        "b =6\n",
        "sum = a+b\n",
        "print(sum)"
      ]
    },
    {
      "cell_type": "code",
      "execution_count": null,
      "metadata": {
        "colab": {
          "base_uri": "https://localhost:8080/"
        },
        "id": "_DgrEEagrBio",
        "outputId": "5b08248d-5f5e-42b8-bf68-af43258d8464"
      },
      "outputs": [
        {
          "name": "stdout",
          "output_type": "stream",
          "text": [
            "enter a number: 6\n",
            "3.0\n"
          ]
        }
      ],
      "source": [
        "num = float(input(\"enter a number: \"))\n",
        "sqrt = num * 0.5\n",
        "print(sqrt)"
      ]
    },
    {
      "cell_type": "code",
      "execution_count": null,
      "metadata": {
        "colab": {
          "base_uri": "https://localhost:8080/"
        },
        "id": "5EMezftnrho4",
        "outputId": "cfa50fe3-118c-4136-b90f-82445be2b5bb"
      },
      "outputs": [
        {
          "name": "stdout",
          "output_type": "stream",
          "text": [
            "158.91330183467966\n"
          ]
        }
      ],
      "source": [
        "a =23\n",
        "b =16\n",
        "c =34\n",
        "s = (a + b + c) / 2\n",
        "area = (s*(s-a)*(s-b)*(s-c)) ** 0.5\n",
        "print(area)"
      ]
    },
    {
      "cell_type": "code",
      "execution_count": null,
      "metadata": {
        "colab": {
          "background_save": true
        },
        "id": "pCl94idAr5Vw",
        "outputId": "97083977-bf98-4314-cd56-e41f8d3d9fbb"
      },
      "outputs": [
        {
          "name": "stdout",
          "output_type": "stream",
          "text": [
            "the solutoions are \n"
          ]
        }
      ],
      "source": [
        "import cmath\n",
        "a =2\n",
        "b =4\n",
        "c =8\n",
        "d = (2*b)-(4*a*c)\n",
        "rt1 = (-b-cmath.sqrt(d))/(2*a)\n",
        "rt2 = (-b+cmath.sqrt(d))/(2*a)\n",
        "print(\"the solutoions are \".format(rt1 , rt2))"
      ]
    },
    {
      "cell_type": "code",
      "execution_count": 1,
      "metadata": {
        "id": "h5OTkKeqtGkX",
        "colab": {
          "base_uri": "https://localhost:8080/"
        },
        "outputId": "a0609583-e04a-4875-ddad-2ca33ffd3098"
      },
      "outputs": [
        {
          "output_type": "stream",
          "name": "stdout",
          "text": [
            "The value of x after swapping: 10\n",
            "The value of y after swapping: 5\n"
          ]
        }
      ],
      "source": [
        "\n",
        "x = 5\n",
        "y = 10\n",
        "temp = x\n",
        "x = y\n",
        "y = temp\n",
        "\n",
        "print('The value of x after swapping: {}'.format(x))\n",
        "print('The value of y after swapping: {}'.format(y))"
      ]
    },
    {
      "cell_type": "code",
      "source": [
        "import random\n",
        "\n",
        "print(random.randint(0,9))"
      ],
      "metadata": {
        "colab": {
          "base_uri": "https://localhost:8080/"
        },
        "id": "2KlIE1w2BX1p",
        "outputId": "14523c98-aebd-4f2e-d3e2-0c5725d2e12d"
      },
      "execution_count": 2,
      "outputs": [
        {
          "output_type": "stream",
          "name": "stdout",
          "text": [
            "0\n"
          ]
        }
      ]
    },
    {
      "cell_type": "code",
      "source": [
        "\n",
        "kilometers = float(input(\"Enter value in kilometers: \"))\n",
        "conv_fac = 0.621371\n",
        "miles = kilometers * conv_fac\n",
        "print('%0.2f kilometers is equal to %0.2f miles' %(kilometers,miles))"
      ],
      "metadata": {
        "colab": {
          "base_uri": "https://localhost:8080/"
        },
        "id": "cYX972yIBaXk",
        "outputId": "5fa96440-25a8-4c55-e8eb-b416dcc29332"
      },
      "execution_count": 3,
      "outputs": [
        {
          "output_type": "stream",
          "name": "stdout",
          "text": [
            "Enter value in kilometers: 4\n",
            "4.00 kilometers is equal to 2.49 miles\n"
          ]
        }
      ]
    },
    {
      "cell_type": "code",
      "source": [
        "\n",
        "celsius = 37.5\n",
        "fahrenheit = (celsius * 1.8) + 32\n",
        "print('%0.1f degree Celsius is equal to %0.1f degree Fahrenheit' %(celsius,fahrenheit))\n"
      ],
      "metadata": {
        "colab": {
          "base_uri": "https://localhost:8080/"
        },
        "id": "q3w82mNLBpIe",
        "outputId": "4bc88a93-5d92-4363-ea13-c6596b400056"
      },
      "execution_count": 4,
      "outputs": [
        {
          "output_type": "stream",
          "name": "stdout",
          "text": [
            "37.5 degree Celsius is equal to 99.5 degree Fahrenheit\n"
          ]
        }
      ]
    },
    {
      "cell_type": "code",
      "source": [
        "num = float(input(\"Enter a number: \"))\n",
        "if num > 0:\n",
        "   print(\"Positive number\")\n",
        "elif num == 0:\n",
        "   print(\"Zero\")\n",
        "else:\n",
        "   print(\"Negative number\")\n"
      ],
      "metadata": {
        "colab": {
          "base_uri": "https://localhost:8080/"
        },
        "id": "R16zZhtUBv3i",
        "outputId": "0ddee09e-a579-4397-f38c-31c8560a9b1c"
      },
      "execution_count": 5,
      "outputs": [
        {
          "output_type": "stream",
          "name": "stdout",
          "text": [
            "Enter a number: 5\n",
            "Positive number\n"
          ]
        }
      ]
    },
    {
      "cell_type": "code",
      "source": [
        "\n",
        "num = int(input(\"Enter a number: \"))\n",
        "if (num % 2) == 0:\n",
        "   print(\"{0} is Even\".format(num))\n",
        "else:\n",
        "   print(\"{0} is Odd\".format(num))"
      ],
      "metadata": {
        "colab": {
          "base_uri": "https://localhost:8080/"
        },
        "id": "FVZvdt-WBxwz",
        "outputId": "b13cf896-d159-4298-c748-ebb96b072fe2"
      },
      "execution_count": 6,
      "outputs": [
        {
          "output_type": "stream",
          "name": "stdout",
          "text": [
            "Enter a number: 34\n",
            "34 is Even\n"
          ]
        }
      ]
    },
    {
      "cell_type": "code",
      "source": [
        "year = int(input(\"Enter a year: \"))\n",
        "if (year % 400 == 0) and (year % 100 == 0):\n",
        "    print(\"{0} is a leap year\".format(year))\n",
        "elif (year % 4 ==0) and (year % 100 != 0):\n",
        "    print(\"{0} is a leap year\".format(year))\n",
        "else:\n",
        "    print(\"{0} is not a leap year\".format(year))"
      ],
      "metadata": {
        "colab": {
          "base_uri": "https://localhost:8080/"
        },
        "id": "I5HUb5OBB9b4",
        "outputId": "be4f3141-6092-43cd-9e55-273d29341a71"
      },
      "execution_count": 7,
      "outputs": [
        {
          "output_type": "stream",
          "name": "stdout",
          "text": [
            "Enter a year: 2004\n",
            "2004 is a leap year\n"
          ]
        }
      ]
    },
    {
      "cell_type": "code",
      "source": [
        "num1 = 10\n",
        "num2 = 14\n",
        "num3 = 12\n",
        "\n",
        "if (num1 >= num2) and (num1 >= num3):\n",
        "   largest = num1\n",
        "elif (num2 >= num1) and (num2 >= num3):\n",
        "   largest = num2\n",
        "else:\n",
        "   largest = num3\n",
        "\n",
        "print(\"The largest number is\", largest)\n"
      ],
      "metadata": {
        "colab": {
          "base_uri": "https://localhost:8080/"
        },
        "id": "r0fufr4PCKih",
        "outputId": "2f625396-63d0-401e-d761-9c1f198d0c00"
      },
      "execution_count": 8,
      "outputs": [
        {
          "output_type": "stream",
          "name": "stdout",
          "text": [
            "The largest number is 14\n"
          ]
        }
      ]
    },
    {
      "cell_type": "code",
      "source": [
        "num = int(input(\"Enter a number: \"))\n",
        "flag = False\n",
        "\n",
        "if num == 0 or num == 1:\n",
        "    print(num, \"is not a prime number\")\n",
        "elif num > 1:\n",
        "    for i in range(2, num):\n",
        "        if (num % i) == 0:\n",
        "            flag = True\n",
        "            break\n",
        "    if flag:\n",
        "        print(num, \"is not a prime number\")\n",
        "    else:\n",
        "        print(num, \"is a prime number\")"
      ],
      "metadata": {
        "colab": {
          "base_uri": "https://localhost:8080/"
        },
        "id": "rCryIsA6CWns",
        "outputId": "78c9436a-0e78-49d7-aa80-be547a87de8a"
      },
      "execution_count": 9,
      "outputs": [
        {
          "output_type": "stream",
          "name": "stdout",
          "text": [
            "Enter a number: 4\n",
            "4 is not a prime number\n"
          ]
        }
      ]
    },
    {
      "cell_type": "code",
      "source": [
        "\n",
        "num = 7\n",
        "\n",
        "factorial = 1\n",
        "if num < 0:\n",
        "   print(\"Sorry, factorial does not exist for negative numbers\")\n",
        "elif num == 0:\n",
        "   print(\"The factorial of 0 is 1\")\n",
        "else:\n",
        "   for i in range(1,num + 1):\n",
        "       factorial = factorial*i\n",
        "   print(\"The factorial of\",num,\"is\",factorial)\n"
      ],
      "metadata": {
        "colab": {
          "base_uri": "https://localhost:8080/"
        },
        "id": "iUNQiCW0CkQi",
        "outputId": "98d9adf3-b866-46cf-df05-a9fcdf1e3259"
      },
      "execution_count": 10,
      "outputs": [
        {
          "output_type": "stream",
          "name": "stdout",
          "text": [
            "The factorial of 7 is 5040\n"
          ]
        }
      ]
    }
  ],
  "metadata": {
    "colab": {
      "provenance": [],
      "authorship_tag": "ABX9TyMYuEbrfc6mb0+Su6xRLDSX",
      "include_colab_link": true
    },
    "kernelspec": {
      "display_name": "Python 3",
      "name": "python3"
    },
    "language_info": {
      "name": "python"
    }
  },
  "nbformat": 4,
  "nbformat_minor": 0
}